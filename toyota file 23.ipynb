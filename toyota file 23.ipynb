{
 "cells": [
  {
   "cell_type": "code",
   "execution_count": 2,
   "id": "38ca18a6",
   "metadata": {},
   "outputs": [
    {
     "name": "stdout",
     "output_type": "stream",
     "text": [
      "Index(['Unnamed: 0', 'Price', 'Age', 'KM', 'FuelType', 'HP', 'MetColor',\n",
      "       'Automatic', 'CC', 'Doors', 'Weight'],\n",
      "      dtype='object')\n",
      "['three' '3' '5' '4' 'four' 'five' '2']\n",
      "(1096, 11)\n",
      "FuelType\n",
      "CNG        12\n",
      "Diesel    116\n",
      "Petrol    968\n",
      "Name: Price, dtype: int64\n"
     ]
    }
   ],
   "source": [
    "import pandas as pd\n",
    "import numpy as np\n",
    "df2 = pd.read_csv(\"C:/Users/UDAY/Desktop/Toyota1.csv\",na_values=['??','????'])\n",
    "#print(df2)\n",
    "df_new = df2.dropna()\n",
    "\n",
    "print(df_new.columns)\n",
    "val = df_new['Doors']\n",
    "print(val.unique())\n",
    "print(df_new.shape)\n",
    "new_data = df_new.groupby('FuelType')['Price'].aggregate('count')\n",
    "print(new_data)"
   ]
  },
  {
   "cell_type": "code",
   "execution_count": null,
   "id": "3ecf8bca",
   "metadata": {},
   "outputs": [],
   "source": []
  }
 ],
 "metadata": {
  "kernelspec": {
   "display_name": "Python 3 (ipykernel)",
   "language": "python",
   "name": "python3"
  },
  "language_info": {
   "codemirror_mode": {
    "name": "ipython",
    "version": 3
   },
   "file_extension": ".py",
   "mimetype": "text/x-python",
   "name": "python",
   "nbconvert_exporter": "python",
   "pygments_lexer": "ipython3",
   "version": "3.11.4"
  }
 },
 "nbformat": 4,
 "nbformat_minor": 5
}
