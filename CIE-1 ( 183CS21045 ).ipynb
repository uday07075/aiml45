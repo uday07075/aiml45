{
 "cells": [
  {
   "cell_type": "code",
   "execution_count": 20,
   "id": "35ef4e47",
   "metadata": {},
   "outputs": [
    {
     "ename": "NameError",
     "evalue": "name 'df' is not defined",
     "output_type": "error",
     "traceback": [
      "\u001b[1;31m---------------------------------------------------------------------------\u001b[0m",
      "\u001b[1;31mNameError\u001b[0m                                 Traceback (most recent call last)",
      "Cell \u001b[1;32mIn[20], line 10\u001b[0m\n\u001b[0;32m      3\u001b[0m \u001b[38;5;28;01mimport\u001b[39;00m \u001b[38;5;21;01mmatplotlib\u001b[39;00m\u001b[38;5;21;01m.\u001b[39;00m\u001b[38;5;21;01mpyplot\u001b[39;00m \u001b[38;5;28;01mas\u001b[39;00m \u001b[38;5;21;01mplt\u001b[39;00m\n\u001b[0;32m      4\u001b[0m data \u001b[38;5;241m=\u001b[39m {\u001b[38;5;124m'\u001b[39m\u001b[38;5;124mslno\u001b[39m\u001b[38;5;124m'\u001b[39m:[\u001b[38;5;241m1\u001b[39m,\u001b[38;5;241m2\u001b[39m,\u001b[38;5;241m3\u001b[39m,\u001b[38;5;241m4\u001b[39m,\u001b[38;5;241m5\u001b[39m,\u001b[38;5;241m6\u001b[39m,\u001b[38;5;241m7\u001b[39m,\u001b[38;5;241m8\u001b[39m,\u001b[38;5;241m9\u001b[39m,\u001b[38;5;241m10\u001b[39m,\u001b[38;5;241m11\u001b[39m,\u001b[38;5;241m12\u001b[39m,\u001b[38;5;241m13\u001b[39m],\n\u001b[0;32m      5\u001b[0m        \u001b[38;5;124m'\u001b[39m\u001b[38;5;124mstates\u001b[39m\u001b[38;5;124m'\u001b[39m:[\u001b[38;5;124m\"\u001b[39m\u001b[38;5;124mALLINDIA,madhyapradesh,assam,odisha,uttarpradesh,rajasthan,meghalaya,chhattisgarh,bihar,andhrapradesh,harayana,gujarat,telangana\u001b[39m\u001b[38;5;124m\"\u001b[39m],\n\u001b[0;32m      6\u001b[0m        \u001b[38;5;124m'\u001b[39m\u001b[38;5;124mneonatal\u001b[39m\u001b[38;5;124m'\u001b[39m:[\u001b[38;5;241m26\u001b[39m,\u001b[38;5;241m35\u001b[39m,\u001b[38;5;241m26\u001b[39m,\u001b[38;5;241m36\u001b[39m,\u001b[38;5;241m32\u001b[39m,\u001b[38;5;241m32\u001b[39m,\u001b[38;5;241m0\u001b[39m,\u001b[38;5;241m28\u001b[39m,\u001b[38;5;241m27\u001b[39m,\u001b[38;5;241m26\u001b[39m,\u001b[38;5;241m23\u001b[39m,\u001b[38;5;241m24\u001b[39m,\u001b[38;5;241m25\u001b[39m],\n\u001b[0;32m      7\u001b[0m        \u001b[38;5;124m'\u001b[39m\u001b[38;5;124minfant\u001b[39m\u001b[38;5;124m'\u001b[39m:[\u001b[38;5;241m39\u001b[39m,\u001b[38;5;241m52\u001b[39m,\u001b[38;5;241m49\u001b[39m,\u001b[38;5;241m49\u001b[39m,\u001b[38;5;241m48\u001b[39m,\u001b[38;5;241m46\u001b[39m,\u001b[38;5;241m46\u001b[39m,\u001b[38;5;241m43\u001b[39m,\u001b[38;5;241m42\u001b[39m,\u001b[38;5;241m39\u001b[39m,\u001b[38;5;241m36\u001b[39m,\u001b[38;5;241m35\u001b[39m,\u001b[38;5;241m35\u001b[39m],\n\u001b[0;32m      8\u001b[0m           \u001b[38;5;124m'\u001b[39m\u001b[38;5;124munder5\u001b[39m\u001b[38;5;124m'\u001b[39m:[\u001b[38;5;241m45\u001b[39m,\u001b[38;5;241m45\u001b[39m,\u001b[38;5;241m66\u001b[39m,\u001b[38;5;241m60\u001b[39m,\u001b[38;5;241m57\u001b[39m,\u001b[38;5;241m510\u001b[39m,\u001b[38;5;241m49\u001b[39m,\u001b[38;5;241m53\u001b[39m,\u001b[38;5;241m40\u001b[39m,\u001b[38;5;241m40\u001b[39m,\u001b[38;5;241m41\u001b[39m,\u001b[38;5;241m37\u001b[39m]\n\u001b[0;32m      9\u001b[0m }\n\u001b[1;32m---> 10\u001b[0m df\u001b[38;5;241m.\u001b[39mpd\u001b[38;5;241m.\u001b[39mdataframe(data\u001b[38;5;241m=\u001b[39mdata)\n\u001b[0;32m     11\u001b[0m df\n\u001b[0;32m     12\u001b[0m \u001b[38;5;28mprint\u001b[39m()\n",
      "\u001b[1;31mNameError\u001b[0m: name 'df' is not defined"
     ]
    }
   ],
   "source": [
    "import pandas as pd\n",
    "import numpy as np\n",
    "import matplotlib.pyplot as plt\n",
    "data = {'slno':[1,2,3,4,5,6,7,8,9,10,11,12,13],\n",
    "       'states':[\"ALLINDIA,madhyapradesh,assam,odisha,uttarpradesh,rajasthan,meghalaya,chhattisgarh,bihar,andhrapradesh,harayana,gujarat,telangana\"],\n",
    "       'neonatal':[26,35,26,36,32,32,0,28,27,26,23,24,25],\n",
    "       'infant':[39,52,49,49,48,46,46,43,42,39,36,35,35],\n",
    "          'under5':[45,45,66,60,57,510,49,53,40,40,41,37]\n",
    "}\n",
    "df.pd.dataframe(data=data)\n",
    "df\n",
    "print()"
   ]
  },
  {
   "cell_type": "code",
   "execution_count": null,
   "id": "8cfd595b",
   "metadata": {},
   "outputs": [],
   "source": []
  },
  {
   "cell_type": "code",
   "execution_count": null,
   "id": "a7f74e77",
   "metadata": {},
   "outputs": [],
   "source": []
  }
 ],
 "metadata": {
  "kernelspec": {
   "display_name": "Python 3 (ipykernel)",
   "language": "python",
   "name": "python3"
  },
  "language_info": {
   "codemirror_mode": {
    "name": "ipython",
    "version": 3
   },
   "file_extension": ".py",
   "mimetype": "text/x-python",
   "name": "python",
   "nbconvert_exporter": "python",
   "pygments_lexer": "ipython3",
   "version": "3.11.4"
  }
 },
 "nbformat": 4,
 "nbformat_minor": 5
}
