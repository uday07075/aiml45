{
 "cells": [
  {
   "cell_type": "code",
   "execution_count": 2,
   "id": "6e09a388",
   "metadata": {},
   "outputs": [
    {
     "data": {
      "text/html": [
       "<div>\n",
       "<style scoped>\n",
       "    .dataframe tbody tr th:only-of-type {\n",
       "        vertical-align: middle;\n",
       "    }\n",
       "\n",
       "    .dataframe tbody tr th {\n",
       "        vertical-align: top;\n",
       "    }\n",
       "\n",
       "    .dataframe thead th {\n",
       "        text-align: right;\n",
       "    }\n",
       "</style>\n",
       "<table border=\"1\" class=\"dataframe\">\n",
       "  <thead>\n",
       "    <tr style=\"text-align: right;\">\n",
       "      <th></th>\n",
       "      <th>Gender</th>\n",
       "      <th>Height</th>\n",
       "      <th>Weight</th>\n",
       "      <th>Index</th>\n",
       "    </tr>\n",
       "  </thead>\n",
       "  <tbody>\n",
       "    <tr>\n",
       "      <th>0</th>\n",
       "      <td>Male</td>\n",
       "      <td>174</td>\n",
       "      <td>96</td>\n",
       "      <td>4</td>\n",
       "    </tr>\n",
       "    <tr>\n",
       "      <th>1</th>\n",
       "      <td>Male</td>\n",
       "      <td>189</td>\n",
       "      <td>87</td>\n",
       "      <td>2</td>\n",
       "    </tr>\n",
       "    <tr>\n",
       "      <th>2</th>\n",
       "      <td>Female</td>\n",
       "      <td>185</td>\n",
       "      <td>110</td>\n",
       "      <td>4</td>\n",
       "    </tr>\n",
       "    <tr>\n",
       "      <th>3</th>\n",
       "      <td>Female</td>\n",
       "      <td>195</td>\n",
       "      <td>104</td>\n",
       "      <td>3</td>\n",
       "    </tr>\n",
       "    <tr>\n",
       "      <th>4</th>\n",
       "      <td>Male</td>\n",
       "      <td>149</td>\n",
       "      <td>61</td>\n",
       "      <td>3</td>\n",
       "    </tr>\n",
       "    <tr>\n",
       "      <th>...</th>\n",
       "      <td>...</td>\n",
       "      <td>...</td>\n",
       "      <td>...</td>\n",
       "      <td>...</td>\n",
       "    </tr>\n",
       "    <tr>\n",
       "      <th>495</th>\n",
       "      <td>Female</td>\n",
       "      <td>150</td>\n",
       "      <td>153</td>\n",
       "      <td>5</td>\n",
       "    </tr>\n",
       "    <tr>\n",
       "      <th>496</th>\n",
       "      <td>Female</td>\n",
       "      <td>184</td>\n",
       "      <td>121</td>\n",
       "      <td>4</td>\n",
       "    </tr>\n",
       "    <tr>\n",
       "      <th>497</th>\n",
       "      <td>Female</td>\n",
       "      <td>141</td>\n",
       "      <td>136</td>\n",
       "      <td>5</td>\n",
       "    </tr>\n",
       "    <tr>\n",
       "      <th>498</th>\n",
       "      <td>Male</td>\n",
       "      <td>150</td>\n",
       "      <td>95</td>\n",
       "      <td>5</td>\n",
       "    </tr>\n",
       "    <tr>\n",
       "      <th>499</th>\n",
       "      <td>Male</td>\n",
       "      <td>173</td>\n",
       "      <td>131</td>\n",
       "      <td>5</td>\n",
       "    </tr>\n",
       "  </tbody>\n",
       "</table>\n",
       "<p>500 rows × 4 columns</p>\n",
       "</div>"
      ],
      "text/plain": [
       "     Gender  Height  Weight  Index\n",
       "0      Male     174      96      4\n",
       "1      Male     189      87      2\n",
       "2    Female     185     110      4\n",
       "3    Female     195     104      3\n",
       "4      Male     149      61      3\n",
       "..      ...     ...     ...    ...\n",
       "495  Female     150     153      5\n",
       "496  Female     184     121      4\n",
       "497  Female     141     136      5\n",
       "498    Male     150      95      5\n",
       "499    Male     173     131      5\n",
       "\n",
       "[500 rows x 4 columns]"
      ]
     },
     "execution_count": 2,
     "metadata": {},
     "output_type": "execute_result"
    }
   ],
   "source": [
    "import pandas as pd\n",
    "df=pd.read_csv(\"C:/Users/UDAY/Desktop/500_Person_Gender_Height_Weight_Index.csv\")\n",
    "df\n"
   ]
  },
  {
   "cell_type": "code",
   "execution_count": 3,
   "id": "3aa3635d",
   "metadata": {},
   "outputs": [
    {
     "name": "stdout",
     "output_type": "stream",
     "text": [
      "199\n"
     ]
    }
   ],
   "source": [
    "height = df['Height'].max()\n",
    "print(height)"
   ]
  },
  {
   "cell_type": "code",
   "execution_count": 4,
   "id": "3a6abedd",
   "metadata": {},
   "outputs": [
    {
     "name": "stdout",
     "output_type": "stream",
     "text": [
      "140\n"
     ]
    }
   ],
   "source": [
    "height = df['Height'].min()\n",
    "print(height)\n"
   ]
  },
  {
   "cell_type": "code",
   "execution_count": 5,
   "id": "7c83f9d4",
   "metadata": {},
   "outputs": [
    {
     "data": {
      "text/plain": [
       "0    174\n",
       "1    189\n",
       "2    185\n",
       "3    195\n",
       "4    149\n",
       "Name: Height, dtype: int64"
      ]
     },
     "execution_count": 5,
     "metadata": {},
     "output_type": "execute_result"
    }
   ],
   "source": [
    "height = df['Height']\n",
    "type(height)\n",
    "height.head(5)"
   ]
  },
  {
   "cell_type": "code",
   "execution_count": 6,
   "id": "062bf462",
   "metadata": {},
   "outputs": [
    {
     "name": "stdout",
     "output_type": "stream",
     "text": [
      "170.5\n"
     ]
    }
   ],
   "source": [
    "height = height.sort_values().reset_index(drop=True)\n",
    "print(height.median())"
   ]
  },
  {
   "cell_type": "code",
   "execution_count": 7,
   "id": "2d64605b",
   "metadata": {},
   "outputs": [
    {
     "data": {
      "text/plain": [
       "0    140\n",
       "1    140\n",
       "2    140\n",
       "3    140\n",
       "4    140\n",
       "Name: Height, dtype: int64"
      ]
     },
     "execution_count": 7,
     "metadata": {},
     "output_type": "execute_result"
    }
   ],
   "source": [
    "height = height.sort_values()\n",
    "height.head(5)"
   ]
  },
  {
   "cell_type": "code",
   "execution_count": 8,
   "id": "08b796c4",
   "metadata": {},
   "outputs": [
    {
     "data": {
      "text/plain": [
       "0     96\n",
       "1     87\n",
       "2    110\n",
       "3    104\n",
       "4     61\n",
       "Name: Weight, dtype: int64"
      ]
     },
     "execution_count": 8,
     "metadata": {},
     "output_type": "execute_result"
    }
   ],
   "source": [
    "weight = df['Weight']\n",
    "type(weight)\n",
    "weight.head(5)"
   ]
  },
  {
   "cell_type": "code",
   "execution_count": 9,
   "id": "e1e3a3e4",
   "metadata": {},
   "outputs": [
    {
     "data": {
      "text/plain": [
       "85     50\n",
       "269    50\n",
       "150    50\n",
       "492    50\n",
       "99     50\n",
       "Name: Weight, dtype: int64"
      ]
     },
     "execution_count": 9,
     "metadata": {},
     "output_type": "execute_result"
    }
   ],
   "source": [
    "weight = weight.sort_values()\n",
    "weight.head(5)"
   ]
  },
  {
   "cell_type": "code",
   "execution_count": 10,
   "id": "1fe55e2f",
   "metadata": {},
   "outputs": [
    {
     "name": "stdout",
     "output_type": "stream",
     "text": [
      "106.0\n"
     ]
    }
   ],
   "source": [
    "weight = weight.sort_values().reset_index(drop=True)\n",
    "print(weight.median())"
   ]
  },
  {
   "cell_type": "code",
   "execution_count": 11,
   "id": "f8e1f478",
   "metadata": {},
   "outputs": [
    {
     "name": "stdout",
     "output_type": "stream",
     "text": [
      "106.0\n"
     ]
    }
   ],
   "source": [
    "height = height.sort_values().reset_index(drop=True)\n",
    "print(weight.median())"
   ]
  },
  {
   "cell_type": "code",
   "execution_count": 15,
   "id": "835ba9c3",
   "metadata": {},
   "outputs": [
    {
     "name": "stdout",
     "output_type": "stream",
     "text": [
      "170.5\n"
     ]
    }
   ],
   "source": [
    "height = height.sort_values().reset_index(drop=True)\n",
    "print(height.median())\n",
    "height_mean = height.mean()"
   ]
  },
  {
   "cell_type": "code",
   "execution_count": 14,
   "id": "96cb4a3d",
   "metadata": {},
   "outputs": [
    {
     "data": {
      "image/png": "[encoded data removed]",
      "text/plain": [
       "<Figure size 1200x800 with 1 Axes>"
      ]
     },
     "metadata": {},
     "output_type": "display_data"
    }
   ],
   "source": [
    "import matplotlib.pyplot as plt\n",
    "plt.figure(figsize =(12,8))\n",
    "height.hist(bins=30)\n",
    "plt.axvline(height_mean,label='mean',color='g')\n",
    "plt.legend()\n",
    "plt.show()"
   ]
  },
  {
   "cell_type": "code",
   "execution_count": 16,
   "id": "a4eeeab5",
   "metadata": {},
   "outputs": [
    {
     "name": "stdout",
     "output_type": "stream",
     "text": [
      "106.0\n"
     ]
    }
   ],
   "source": [
    "weight = weight.sort_values().reset_index(drop=True)\n",
    "print(weight.median())\n",
    "weight_mean = weight.mean()"
   ]
  },
  {
   "cell_type": "code",
   "execution_count": 18,
   "id": "8258fd13",
   "metadata": {},
   "outputs": [
    {
     "data": {
      "image/png": "[encoded data removed]",
      "text/plain": [
       "<Figure size 1200x600 with 1 Axes>"
      ]
     },
     "metadata": {},
     "output_type": "display_data"
    }
   ],
   "source": [
    "import matplotlib.pyplot as plt\n",
    "plt.figure(figsize =(12,6))\n",
    "weight.hist(bins=30)\n",
    "plt.axvline(weight_mean,label='mean',color='r')\n",
    "plt.legend()\n",
    "plt.show()"
   ]
  },
  {
   "cell_type": "code",
   "execution_count": null,
   "id": "bbc757a8",
   "metadata": {},
   "outputs": [],
   "source": []
  },
  {
   "cell_type": "code",
   "execution_count": 25,
   "id": "e0cdfd3d",
   "metadata": {},
   "outputs": [
    {
     "name": "stdout",
     "output_type": "stream",
     "text": [
      "    Height  Frequency\n",
      "37     140          8\n",
      "36     141          8\n",
      "24     142          9\n",
      "58     143          3\n",
      "54     144          5\n",
      "27     145          9\n",
      "28     146          9\n",
      "39     147          7\n",
      "53     148          5\n",
      "50     149          5\n",
      "8      150         11\n",
      "31     151          8\n",
      "34     152          8\n",
      "13     153         10\n",
      "14     154         10\n",
      "47     155          6\n",
      "46     156          6\n",
      "16     157         10\n",
      "48     158          5\n",
      "25     159          9\n",
      "42     160          7\n",
      "29     161          9\n",
      "23     162          9\n",
      "30     163          8\n",
      "20     164          9\n",
      "17     165         10\n",
      "22     166          9\n",
      "21     167          9\n",
      "4      168         13\n",
      "15     169         10\n",
      "45     170          6\n",
      "35     171          8\n",
      "5      172         12\n",
      "57     173          4\n",
      "33     174          8\n",
      "56     175          4\n",
      "38     176          7\n",
      "18     177          9\n",
      "3      178         13\n",
      "2      179         14\n",
      "32     180          8\n",
      "9      181         11\n",
      "7      182         12\n",
      "10     183         11\n",
      "6      184         12\n",
      "11     185         11\n",
      "19     186          9\n",
      "1      187         14\n",
      "0      188         15\n",
      "49     189          5\n",
      "26     190          9\n",
      "40     191          7\n",
      "43     192          6\n",
      "51     193          5\n",
      "52     194          5\n",
      "12     195         10\n",
      "44     196          6\n",
      "41     197          7\n",
      "55     198          5\n",
      "59     199          3\n"
     ]
    }
   ],
   "source": [
    "# CHAT GPT ANSWER\n",
    "import pandas as pd\n",
    "\n",
    "df = pd.DataFrame({'Height': height})\n",
    "\n",
    "frequency_code = df['Height'].value_counts().reset_index()\n",
    "\n",
    "frequency_code.columns = ['Height', 'Frequency']\n",
    "\n",
    "frequency_code = frequency_code.sort_values(by='Height')\n",
    "\n",
    "print(frequency_code)"
   ]
  },
  {
   "cell_type": "code",
   "execution_count": 27,
   "id": "f28c9b84",
   "metadata": {},
   "outputs": [
    {
     "name": "stdout",
     "output_type": "stream",
     "text": [
      "     Weight  Frequency\n",
      "0        50          9\n",
      "71       51          4\n",
      "47       52          5\n",
      "104      53          1\n",
      "4        54          8\n",
      "..      ...        ...\n",
      "23      156          6\n",
      "83      157          3\n",
      "77      158          3\n",
      "66      159          4\n",
      "30      160          6\n",
      "\n",
      "[110 rows x 2 columns]\n"
     ]
    }
   ],
   "source": [
    "import pandas as pd\n",
    "\n",
    "df = pd.DataFrame({'Weight': weight})\n",
    "\n",
    "frequency_code = df['Weight'].value_counts().reset_index()\n",
    "\n",
    "frequency_code.columns = ['Weight', 'Frequency']\n",
    "\n",
    "frequency_code = frequency_code.sort_values(by='Weight')\n",
    "\n",
    "print(frequency_code)"
   ]
  },
  {
   "cell_type": "code",
   "execution_count": null,
   "id": "61a3a067",
   "metadata": {},
   "outputs": [],
   "source": []
  },
  {
   "cell_type": "code",
   "execution_count": null,
   "id": "05b2935d",
   "metadata": {},
   "outputs": [],
   "source": []
  }
 ],
 "metadata": {
  "kernelspec": {
   "display_name": "Python 3 (ipykernel)",
   "language": "python",
   "name": "python3"
  },
  "language_info": {
   "codemirror_mode": {
    "name": "ipython",
    "version": 3
   },
   "file_extension": ".py",
   "mimetype": "text/x-python",
   "name": "python",
   "nbconvert_exporter": "python",
   "pygments_lexer": "ipython3",
   "version": "3.11.4"
  }
 },
 "nbformat": 4,
 "nbformat_minor": 5
}
